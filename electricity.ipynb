{
 "cells": [
  {
   "cell_type": "code",
   "execution_count": 1,
   "metadata": {},
   "outputs": [],
   "source": [
    "import numpy as np\n",
    "import matplotlib.pyplot as plt\n",
    "import ipywidgets as widgets\n",
    "%matplotlib widget"
   ]
  },
  {
   "cell_type": "code",
   "execution_count": 39,
   "metadata": {},
   "outputs": [],
   "source": [
    "from typing import NamedTuple\n",
    "\n",
    "class Tariff(NamedTuple):\n",
    "    name: str\n",
    "    off_peak: float\n",
    "    peak: float\n",
    "    daily: float"
   ]
  },
  {
   "cell_type": "code",
   "execution_count": 40,
   "metadata": {},
   "outputs": [],
   "source": [
    "green = Tariff('green', 9.587, 13.367, 26.922)"
   ]
  },
  {
   "cell_type": "code",
   "execution_count": 41,
   "metadata": {},
   "outputs": [],
   "source": [
    "edf = Tariff('edf', 9.209, 14.207, 23.163)"
   ]
  },
  {
   "cell_type": "code",
   "execution_count": 42,
   "metadata": {},
   "outputs": [],
   "source": [
    "scottish_power = Tariff('scottish power', 7.777, 15.951, 20.003)"
   ]
  },
  {
   "cell_type": "code",
   "execution_count": 52,
   "metadata": {},
   "outputs": [],
   "source": [
    "scottish_power_fixed = Tariff('scottish power fixed', 9.314, 19.006, 19.17)"
   ]
  },
  {
   "cell_type": "code",
   "execution_count": 53,
   "metadata": {},
   "outputs": [],
   "source": [
    "N_DAYS_IN_YEAR = 365"
   ]
  },
  {
   "cell_type": "code",
   "execution_count": 54,
   "metadata": {},
   "outputs": [],
   "source": [
    "tariffs = [o for o in globals().values() if isinstance(o, Tariff)]"
   ]
  },
  {
   "cell_type": "code",
   "execution_count": 55,
   "metadata": {},
   "outputs": [],
   "source": [
    "x = np.linspace(2500, 4000)"
   ]
  },
  {
   "cell_type": "code",
   "execution_count": 56,
   "metadata": {},
   "outputs": [
    {
     "data": {
      "application/vnd.jupyter.widget-view+json": {
       "model_id": "e51f61c121c1435caa254f05155c0e1d",
       "version_major": 2,
       "version_minor": 0
      },
      "text/plain": [
       "Canvas(toolbar=Toolbar(toolitems=[('Home', 'Reset original view', 'home', 'home'), ('Back', 'Back to previous …"
      ]
     },
     "metadata": {},
     "output_type": "display_data"
    },
    {
     "data": {
      "text/plain": [
       "<matplotlib.legend.Legend at 0x7f9eb82af400>"
      ]
     },
     "execution_count": 56,
     "metadata": {},
     "output_type": "execute_result"
    }
   ],
   "source": [
    "plt.figure()\n",
    "lines = [plt.plot(x, x, label=t.name)[0] for t in tariffs]\n",
    "plt.ylabel(\"Cost /£\")\n",
    "plt.xlabel(\"Units Off Peak /KWh\")\n",
    "plt.legend()"
   ]
  },
  {
   "cell_type": "code",
   "execution_count": 57,
   "metadata": {},
   "outputs": [
    {
     "data": {
      "application/vnd.jupyter.widget-view+json": {
       "model_id": "dc941e382efd44049bf30f673eef4c5f",
       "version_major": 2,
       "version_minor": 0
      },
      "text/plain": [
       "interactive(children=(FloatSlider(value=2250.0, description='units_peak', max=3000.0, min=1500.0, step=50.0), …"
      ]
     },
     "metadata": {},
     "output_type": "display_data"
    }
   ],
   "source": [
    "@widgets.interact\n",
    "def evaluate(units_peak=(1500.0, 3000, 50.0), off_peak_limits=widgets.FloatRangeSlider(min=1800.0, max=5000.)):\n",
    "    units_off_peak = np.linspace(*off_peak_limits)\n",
    "    for tariff, line in zip(tariffs, lines):\n",
    "        cost = tariff.peak * units_peak + tariff.off_peak * units_off_peak + tariff.daily * N_DAYS_IN_YEAR\n",
    "        line.set_data(units_off_peak, cost/100)\n",
    "    \n",
    "    ax = plt.gca()\n",
    "    ax.relim()\n",
    "    ax.autoscale()"
   ]
  }
 ],
 "metadata": {
  "kernelspec": {
   "display_name": "Python 3",
   "language": "python",
   "name": "python3"
  },
  "language_info": {
   "codemirror_mode": {
    "name": "ipython",
    "version": 3
   },
   "file_extension": ".py",
   "mimetype": "text/x-python",
   "name": "python",
   "nbconvert_exporter": "python",
   "pygments_lexer": "ipython3",
   "version": "3.8.0"
  },
  "widgets": {
   "application/vnd.jupyter.widget-state+json": {
    "state": {
     "05315a49edbf4f1383787b8342ccb17f": {
      "model_module": "@jupyter-widgets/controls",
      "model_module_version": "1.5.0",
      "model_name": "SliderStyleModel",
      "state": {
       "description_width": ""
      }
     },
     "09720ccd2f414ba98e4ed7318a7a81a7": {
      "model_module": "@jupyter-widgets/controls",
      "model_module_version": "1.5.0",
      "model_name": "VBoxModel",
      "state": {
       "_dom_classes": [
        "widget-interact"
       ],
       "children": [
        "IPY_MODEL_0fd04733a5684a02b8ede09514197dd6",
        "IPY_MODEL_e9554fb1c34b4b23a5fb60e899b0a6e0",
        "IPY_MODEL_179a63affeb248bb8ab0606a406ab9ee"
       ],
       "layout": "IPY_MODEL_c5a5be3886174112ba59ed816715a1a0"
      }
     },
     "09b065c878124919be19b9ed276ae342": {
      "model_module": "@jupyter-widgets/output",
      "model_module_version": "1.0.0",
      "model_name": "OutputModel",
      "state": {
       "layout": "IPY_MODEL_81059db06dc7414883afdc17caf1f9d8"
      }
     },
     "0a287df6af414c58a7ca56932188b3b1": {
      "model_module": "jupyter-matplotlib",
      "model_module_version": "^0.7.2",
      "model_name": "MPLCanvasModel",
      "state": {
       "_cursor": "default",
       "_figure_label": "Figure 7",
       "_height": 480,
       "_image_mode": "diff",
       "_message": "x=2895.06      y=627.739     ",
       "_width": 640,
       "layout": "IPY_MODEL_a12deef6ffdf40ccb46ebb85fbcd9ace",
       "toolbar": "IPY_MODEL_8162e8573c3b41b39d8dfaf36ccf2d31",
       "toolbar_position": "left"
      }
     },
     "0fd04733a5684a02b8ede09514197dd6": {
      "model_module": "@jupyter-widgets/controls",
      "model_module_version": "1.5.0",
      "model_name": "FloatSliderModel",
      "state": {
       "description": "units_peak",
       "layout": "IPY_MODEL_33a150bc2b5b4569b683c87f11756e4c",
       "max": 3000,
       "min": 2000,
       "step": 50,
       "style": "IPY_MODEL_8c3b1e319b4044bebf5892dd6ba6d6b1",
       "value": 2550
      }
     },
     "110becd7cc8e4cc99a489511c3d600c4": {
      "model_module": "@jupyter-widgets/base",
      "model_module_version": "1.2.0",
      "model_name": "LayoutModel",
      "state": {}
     },
     "1144eb88b4d6443f8ea98361ee7c38fb": {
      "model_module": "@jupyter-widgets/controls",
      "model_module_version": "1.5.0",
      "model_name": "SliderStyleModel",
      "state": {
       "description_width": ""
      }
     },
     "138fb93d674d4b3a93eca7ade2ba05da": {
      "model_module": "@jupyter-widgets/controls",
      "model_module_version": "1.5.0",
      "model_name": "FloatRangeSliderModel",
      "state": {
       "_model_name": "FloatRangeSliderModel",
       "_view_name": "FloatRangeSliderView",
       "description": "off_peak_limits",
       "layout": "IPY_MODEL_7c23de83f4094168a683c02434af9759",
       "max": 4000,
       "min": 1800,
       "step": 0.1,
       "style": "IPY_MODEL_cd8051cfd3794b43a607c27572d6a4af",
       "value": [
        2805.7,
        4000
       ]
      }
     },
     "139d34b18cc042e58197e82f2c18db6c": {
      "model_module": "@jupyter-widgets/base",
      "model_module_version": "1.2.0",
      "model_name": "LayoutModel",
      "state": {}
     },
     "1623a9dfac14419b94ba2913af5f1d7f": {
      "model_module": "@jupyter-widgets/output",
      "model_module_version": "1.0.0",
      "model_name": "OutputModel",
      "state": {
       "layout": "IPY_MODEL_30974f8667e34cc0be39002295163b5c"
      }
     },
     "1744f47a0f244ae1a356cedecb3a41e4": {
      "model_module": "@jupyter-widgets/controls",
      "model_module_version": "1.5.0",
      "model_name": "SliderStyleModel",
      "state": {
       "description_width": ""
      }
     },
     "179a63affeb248bb8ab0606a406ab9ee": {
      "model_module": "@jupyter-widgets/output",
      "model_module_version": "1.0.0",
      "model_name": "OutputModel",
      "state": {
       "layout": "IPY_MODEL_d1d4bdb39bb64b7a90fb40be04615be9"
      }
     },
     "1f73aac25ae54e64bd6de541866de721": {
      "model_module": "@jupyter-widgets/output",
      "model_module_version": "1.0.0",
      "model_name": "OutputModel",
      "state": {
       "layout": "IPY_MODEL_816bdc3d2f4b4e1e9e0fa77ea263f527"
      }
     },
     "2396c578f504492784c36bfca2e133d9": {
      "model_module": "@jupyter-widgets/base",
      "model_module_version": "1.2.0",
      "model_name": "LayoutModel",
      "state": {}
     },
     "23bcb9b91f9e418a966cb19e5d0eb639": {
      "model_module": "@jupyter-widgets/controls",
      "model_module_version": "1.5.0",
      "model_name": "VBoxModel",
      "state": {
       "_dom_classes": [
        "widget-interact"
       ],
       "children": [
        "IPY_MODEL_4dfd32a085564367aacc1864ebf808a3",
        "IPY_MODEL_c7dacb43b5c14f9b8bbab4c07aee1702",
        "IPY_MODEL_1f73aac25ae54e64bd6de541866de721"
       ],
       "layout": "IPY_MODEL_529c8e3457284f42a269138fae9761b0"
      }
     },
     "25b4c682c28643a6942ed56fd8384b9b": {
      "model_module": "@jupyter-widgets/base",
      "model_module_version": "1.2.0",
      "model_name": "LayoutModel",
      "state": {}
     },
     "2601556819904382ba3e104e1b846eef": {
      "model_module": "@jupyter-widgets/controls",
      "model_module_version": "1.5.0",
      "model_name": "FloatRangeSliderModel",
      "state": {
       "_model_name": "FloatRangeSliderModel",
       "_view_name": "FloatRangeSliderView",
       "description": "off_peak_limits",
       "layout": "IPY_MODEL_b0f14938921d42198e10da88b530ba88",
       "max": 4000,
       "min": 1800,
       "step": 0.1,
       "style": "IPY_MODEL_3202b3141e614f2cb08393bfcb50d1fe",
       "value": [
        3300,
        3400
       ]
      }
     },
     "29dfeaa8e09f4d8d87c472435e2a818b": {
      "model_module": "@jupyter-widgets/base",
      "model_module_version": "1.2.0",
      "model_name": "LayoutModel",
      "state": {}
     },
     "2b4ab2c07ba4445baae76ef5a4fd2b02": {
      "model_module": "@jupyter-widgets/base",
      "model_module_version": "1.2.0",
      "model_name": "LayoutModel",
      "state": {}
     },
     "306a30adc645423eafe914d2771b4598": {
      "model_module": "@jupyter-widgets/controls",
      "model_module_version": "1.5.0",
      "model_name": "FloatSliderModel",
      "state": {
       "description": "units_peak",
       "layout": "IPY_MODEL_776441822f4546d4bc50e9897f750109",
       "max": 3000,
       "min": 2000,
       "step": 50,
       "style": "IPY_MODEL_d0f3fa3f6e294f69be70a639f1316aa3",
       "value": 2000
      }
     },
     "30974f8667e34cc0be39002295163b5c": {
      "model_module": "@jupyter-widgets/base",
      "model_module_version": "1.2.0",
      "model_name": "LayoutModel",
      "state": {}
     },
     "3185eb4e09014369a94e1952a1510034": {
      "model_module": "@jupyter-widgets/base",
      "model_module_version": "1.2.0",
      "model_name": "LayoutModel",
      "state": {}
     },
     "3202b3141e614f2cb08393bfcb50d1fe": {
      "model_module": "@jupyter-widgets/controls",
      "model_module_version": "1.5.0",
      "model_name": "SliderStyleModel",
      "state": {
       "description_width": ""
      }
     },
     "334d30a0317d4c3da00951b74bb5e462": {
      "model_module": "@jupyter-widgets/base",
      "model_module_version": "1.2.0",
      "model_name": "LayoutModel",
      "state": {}
     },
     "33a150bc2b5b4569b683c87f11756e4c": {
      "model_module": "@jupyter-widgets/base",
      "model_module_version": "1.2.0",
      "model_name": "LayoutModel",
      "state": {}
     },
     "37190f80a2dc40698885fc7a4ba76fef": {
      "model_module": "jupyter-matplotlib",
      "model_module_version": "^0.7.2",
      "model_name": "ToolbarModel",
      "state": {
       "layout": "IPY_MODEL_baf533c8fdf94d85849945c72e13f284",
       "toolitems": [
        [
         "Home",
         "Reset original view",
         "home",
         "home"
        ],
        [
         "Back",
         "Back to previous view",
         "arrow-left",
         "back"
        ],
        [
         "Forward",
         "Forward to next view",
         "arrow-right",
         "forward"
        ],
        [
         "Pan",
         "Pan axes with left mouse, zoom with right",
         "arrows",
         "pan"
        ],
        [
         "Zoom",
         "Zoom to rectangle",
         "square-o",
         "zoom"
        ],
        [
         "Download",
         "Download plot",
         "floppy-o",
         "save_figure"
        ]
       ]
      }
     },
     "3809e744cc0d4748a0f98b2943b400fa": {
      "model_module": "@jupyter-widgets/controls",
      "model_module_version": "1.5.0",
      "model_name": "SliderStyleModel",
      "state": {
       "description_width": ""
      }
     },
     "38e400f4be864f4ba3d9308725519ded": {
      "model_module": "@jupyter-widgets/output",
      "model_module_version": "1.0.0",
      "model_name": "OutputModel",
      "state": {
       "layout": "IPY_MODEL_110becd7cc8e4cc99a489511c3d600c4"
      }
     },
     "3af14edf80e145d9955f3190a9fc9a16": {
      "model_module": "@jupyter-widgets/controls",
      "model_module_version": "1.5.0",
      "model_name": "SliderStyleModel",
      "state": {
       "description_width": ""
      }
     },
     "3b147da62f6046f09e9318df1732fea2": {
      "model_module": "@jupyter-widgets/controls",
      "model_module_version": "1.5.0",
      "model_name": "FloatSliderModel",
      "state": {
       "description": "units_peak",
       "layout": "IPY_MODEL_bd2f715087ba402596597815c4516f1e",
       "max": 3000,
       "min": 1500,
       "step": 50,
       "style": "IPY_MODEL_baf6867124aa41f2b014d173982519f8",
       "value": 1800
      }
     },
     "3ba5c2f87e5d4e888990383b71039e8e": {
      "model_module": "@jupyter-widgets/output",
      "model_module_version": "1.0.0",
      "model_name": "OutputModel",
      "state": {
       "layout": "IPY_MODEL_ef6032c96e4e4971b52ccf902246bda2"
      }
     },
     "3d7b4115acc54e2dbe046de2b0e91efc": {
      "model_module": "@jupyter-widgets/base",
      "model_module_version": "1.2.0",
      "model_name": "LayoutModel",
      "state": {}
     },
     "42808556ed95429db71f775d8a7ddae3": {
      "model_module": "@jupyter-widgets/controls",
      "model_module_version": "1.5.0",
      "model_name": "FloatRangeSliderModel",
      "state": {
       "_model_name": "FloatRangeSliderModel",
       "_view_name": "FloatRangeSliderView",
       "description": "off_peak_limits",
       "layout": "IPY_MODEL_9311ad7f5d8a4229bb9f823706c971d5",
       "max": 4000,
       "min": 2500,
       "step": 0.1,
       "style": "IPY_MODEL_bc81bcd2d40b4981939b650cf390a37c",
       "value": [
        2875,
        3625
       ]
      }
     },
     "43ba237a582a48a585d5e165fd538336": {
      "model_module": "@jupyter-widgets/base",
      "model_module_version": "1.2.0",
      "model_name": "LayoutModel",
      "state": {}
     },
     "463fb931cede4ea4b5cc884d6b875a9c": {
      "model_module": "@jupyter-widgets/output",
      "model_module_version": "1.0.0",
      "model_name": "OutputModel",
      "state": {
       "layout": "IPY_MODEL_66881057e3e043cdb56fb73cf182746c"
      }
     },
     "46ccbfc2a959488297212b3541590926": {
      "model_module": "@jupyter-widgets/base",
      "model_module_version": "1.2.0",
      "model_name": "LayoutModel",
      "state": {}
     },
     "473d50387eab4dfaa02f0da74ecf61bc": {
      "model_module": "@jupyter-widgets/controls",
      "model_module_version": "1.5.0",
      "model_name": "FloatSliderModel",
      "state": {
       "description": "units_peak",
       "layout": "IPY_MODEL_43ba237a582a48a585d5e165fd538336",
       "max": 3000,
       "min": 1500,
       "step": 50,
       "style": "IPY_MODEL_3809e744cc0d4748a0f98b2943b400fa",
       "value": 2200
      }
     },
     "49685aa255cd4b1c8c8e6456a71531a3": {
      "model_module": "@jupyter-widgets/base",
      "model_module_version": "1.2.0",
      "model_name": "LayoutModel",
      "state": {}
     },
     "4c672fee7b21404d92825a88b481aa50": {
      "model_module": "@jupyter-widgets/controls",
      "model_module_version": "1.5.0",
      "model_name": "SliderStyleModel",
      "state": {
       "description_width": ""
      }
     },
     "4dfd32a085564367aacc1864ebf808a3": {
      "model_module": "@jupyter-widgets/controls",
      "model_module_version": "1.5.0",
      "model_name": "FloatSliderModel",
      "state": {
       "description": "units_peak",
       "layout": "IPY_MODEL_5eb822b9ce0b43d5bc52058570792c4e",
       "max": 3000,
       "min": 1500,
       "step": 50,
       "style": "IPY_MODEL_3af14edf80e145d9955f3190a9fc9a16",
       "value": 2800
      }
     },
     "4fb327feac6c41a5834b1abc64cb99c5": {
      "model_module": "@jupyter-widgets/base",
      "model_module_version": "1.2.0",
      "model_name": "LayoutModel",
      "state": {}
     },
     "525dcca0c3804310a946b240669974d3": {
      "model_module": "@jupyter-widgets/controls",
      "model_module_version": "1.5.0",
      "model_name": "FloatRangeSliderModel",
      "state": {
       "_model_name": "FloatRangeSliderModel",
       "_view_name": "FloatRangeSliderView",
       "description": "off_peak_limits",
       "layout": "IPY_MODEL_6d982d8182794fb1b9c79ee042549b10",
       "max": 4000,
       "min": 2500,
       "step": 0.1,
       "style": "IPY_MODEL_c68057893f3a4bc1a13bfd0f94324201",
       "value": [
        2875,
        3625
       ]
      }
     },
     "529c8e3457284f42a269138fae9761b0": {
      "model_module": "@jupyter-widgets/base",
      "model_module_version": "1.2.0",
      "model_name": "LayoutModel",
      "state": {}
     },
     "578317fd722340edb0f734687d13da38": {
      "model_module": "@jupyter-widgets/base",
      "model_module_version": "1.2.0",
      "model_name": "LayoutModel",
      "state": {}
     },
     "5a81f3a7e6d14381922cf56fd2a7ffa0": {
      "model_module": "@jupyter-widgets/base",
      "model_module_version": "1.2.0",
      "model_name": "LayoutModel",
      "state": {}
     },
     "5c421b851d8c493fb67e13d2cd2c3958": {
      "model_module": "@jupyter-widgets/base",
      "model_module_version": "1.2.0",
      "model_name": "LayoutModel",
      "state": {}
     },
     "5eb822b9ce0b43d5bc52058570792c4e": {
      "model_module": "@jupyter-widgets/base",
      "model_module_version": "1.2.0",
      "model_name": "LayoutModel",
      "state": {}
     },
     "62485dfe597f488d9f279cc647ba527c": {
      "model_module": "@jupyter-widgets/base",
      "model_module_version": "1.2.0",
      "model_name": "LayoutModel",
      "state": {}
     },
     "66881057e3e043cdb56fb73cf182746c": {
      "model_module": "@jupyter-widgets/base",
      "model_module_version": "1.2.0",
      "model_name": "LayoutModel",
      "state": {}
     },
     "66e96fc7729143c58b4651b16cf3708f": {
      "model_module": "jupyter-matplotlib",
      "model_module_version": "^0.7.2",
      "model_name": "ToolbarModel",
      "state": {
       "layout": "IPY_MODEL_914832feee2b483f9cb480f60923d25e",
       "toolitems": [
        [
         "Home",
         "Reset original view",
         "home",
         "home"
        ],
        [
         "Back",
         "Back to previous view",
         "arrow-left",
         "back"
        ],
        [
         "Forward",
         "Forward to next view",
         "arrow-right",
         "forward"
        ],
        [
         "Pan",
         "Pan axes with left mouse, zoom with right",
         "arrows",
         "pan"
        ],
        [
         "Zoom",
         "Zoom to rectangle",
         "square-o",
         "zoom"
        ],
        [
         "Download",
         "Download plot",
         "floppy-o",
         "save_figure"
        ]
       ]
      }
     },
     "674b62479d5a4bb38dac08abb491cacb": {
      "model_module": "@jupyter-widgets/base",
      "model_module_version": "1.2.0",
      "model_name": "LayoutModel",
      "state": {}
     },
     "67c1758b1568446495acd0fbf0f899a4": {
      "model_module": "@jupyter-widgets/controls",
      "model_module_version": "1.5.0",
      "model_name": "SliderStyleModel",
      "state": {
       "description_width": ""
      }
     },
     "6d982d8182794fb1b9c79ee042549b10": {
      "model_module": "@jupyter-widgets/base",
      "model_module_version": "1.2.0",
      "model_name": "LayoutModel",
      "state": {}
     },
     "6df8625b2ab94ddd9f547f8ac354f840": {
      "model_module": "@jupyter-widgets/controls",
      "model_module_version": "1.5.0",
      "model_name": "VBoxModel",
      "state": {
       "_dom_classes": [
        "widget-interact"
       ],
       "children": [
        "IPY_MODEL_306a30adc645423eafe914d2771b4598",
        "IPY_MODEL_c6ddd3d318cc47e3bd9759301fccf5af",
        "IPY_MODEL_ef1e2604f337463f9a98336c6bbe1646"
       ],
       "layout": "IPY_MODEL_8bb82f251ad5417ba4ee53785e562463"
      }
     },
     "738c3beb261f4f1a9a1e8e2ac4949543": {
      "model_module": "jupyter-matplotlib",
      "model_module_version": "^0.7.2",
      "model_name": "ToolbarModel",
      "state": {
       "layout": "IPY_MODEL_bf9ffc036ce041709d0fa44246229009",
       "toolitems": [
        [
         "Home",
         "Reset original view",
         "home",
         "home"
        ],
        [
         "Back",
         "Back to previous view",
         "arrow-left",
         "back"
        ],
        [
         "Forward",
         "Forward to next view",
         "arrow-right",
         "forward"
        ],
        [
         "Pan",
         "Pan axes with left mouse, zoom with right",
         "arrows",
         "pan"
        ],
        [
         "Zoom",
         "Zoom to rectangle",
         "square-o",
         "zoom"
        ],
        [
         "Download",
         "Download plot",
         "floppy-o",
         "save_figure"
        ]
       ]
      }
     },
     "76075c285d114d60b0c6844a69b53ec4": {
      "model_module": "@jupyter-widgets/base",
      "model_module_version": "1.2.0",
      "model_name": "LayoutModel",
      "state": {}
     },
     "762206b2d7b74e489604e017753dc005": {
      "model_module": "jupyter-matplotlib",
      "model_module_version": "^0.7.2",
      "model_name": "MPLCanvasModel",
      "state": {
       "_cursor": "default",
       "_figure_label": "Figure 5",
       "_height": 480,
       "_image_mode": "diff",
       "_width": 640,
       "layout": "IPY_MODEL_e6ea3a62ad524d13a622c314bf1040e8",
       "toolbar": "IPY_MODEL_c40f8192bfbf473086e5059be8f9b627",
       "toolbar_position": "left"
      }
     },
     "77174cd88c8043a7a30485f9008d3e2c": {
      "model_module": "@jupyter-widgets/base",
      "model_module_version": "1.2.0",
      "model_name": "LayoutModel",
      "state": {}
     },
     "776441822f4546d4bc50e9897f750109": {
      "model_module": "@jupyter-widgets/base",
      "model_module_version": "1.2.0",
      "model_name": "LayoutModel",
      "state": {}
     },
     "7c23de83f4094168a683c02434af9759": {
      "model_module": "@jupyter-widgets/base",
      "model_module_version": "1.2.0",
      "model_name": "LayoutModel",
      "state": {}
     },
     "7d1c2b5ee2584433bd4302c7406edaca": {
      "model_module": "@jupyter-widgets/controls",
      "model_module_version": "1.5.0",
      "model_name": "FloatSliderModel",
      "state": {
       "description": "units_peak",
       "layout": "IPY_MODEL_578317fd722340edb0f734687d13da38",
       "max": 3000,
       "min": 2000,
       "step": 50,
       "style": "IPY_MODEL_d912032a762c4148bd7b99d9ede7f217",
       "value": 2500
      }
     },
     "7d27d05c1c6d4685937f3338bdfe9541": {
      "model_module": "jupyter-matplotlib",
      "model_module_version": "^0.7.2",
      "model_name": "MPLCanvasModel",
      "state": {
       "_cursor": "default",
       "_figure_label": "Figure 6",
       "_height": 480,
       "_image_mode": "diff",
       "_message": "x=3320.87      y=712.769     ",
       "_width": 640,
       "layout": "IPY_MODEL_cae38d87300c44f380d48147d5c7f4a0",
       "toolbar": "IPY_MODEL_37190f80a2dc40698885fc7a4ba76fef",
       "toolbar_position": "left"
      }
     },
     "7efe06742bbe4310b178ce23629a1b9f": {
      "model_module": "@jupyter-widgets/controls",
      "model_module_version": "1.5.0",
      "model_name": "FloatSliderModel",
      "state": {
       "description": "units_peak",
       "layout": "IPY_MODEL_80fb9b0b2ea0428cb20033e9b2dc1aad",
       "max": 3000,
       "min": 1500,
       "step": 50,
       "style": "IPY_MODEL_eebd7c5e1bfc4e18bd2dd0bb6481f31a",
       "value": 1700
      }
     },
     "80fb9b0b2ea0428cb20033e9b2dc1aad": {
      "model_module": "@jupyter-widgets/base",
      "model_module_version": "1.2.0",
      "model_name": "LayoutModel",
      "state": {}
     },
     "81059db06dc7414883afdc17caf1f9d8": {
      "model_module": "@jupyter-widgets/base",
      "model_module_version": "1.2.0",
      "model_name": "LayoutModel",
      "state": {}
     },
     "8162e8573c3b41b39d8dfaf36ccf2d31": {
      "model_module": "jupyter-matplotlib",
      "model_module_version": "^0.7.2",
      "model_name": "ToolbarModel",
      "state": {
       "layout": "IPY_MODEL_4fb327feac6c41a5834b1abc64cb99c5",
       "toolitems": [
        [
         "Home",
         "Reset original view",
         "home",
         "home"
        ],
        [
         "Back",
         "Back to previous view",
         "arrow-left",
         "back"
        ],
        [
         "Forward",
         "Forward to next view",
         "arrow-right",
         "forward"
        ],
        [
         "Pan",
         "Pan axes with left mouse, zoom with right",
         "arrows",
         "pan"
        ],
        [
         "Zoom",
         "Zoom to rectangle",
         "square-o",
         "zoom"
        ],
        [
         "Download",
         "Download plot",
         "floppy-o",
         "save_figure"
        ]
       ]
      }
     },
     "816bdc3d2f4b4e1e9e0fa77ea263f527": {
      "model_module": "@jupyter-widgets/base",
      "model_module_version": "1.2.0",
      "model_name": "LayoutModel",
      "state": {}
     },
     "837e2bfa2ea346d4b1ead65c05a5fb6b": {
      "model_module": "@jupyter-widgets/output",
      "model_module_version": "1.0.0",
      "model_name": "OutputModel",
      "state": {
       "layout": "IPY_MODEL_ec971fe436ff4f18adaf5798d93e487e"
      }
     },
     "8bb82f251ad5417ba4ee53785e562463": {
      "model_module": "@jupyter-widgets/base",
      "model_module_version": "1.2.0",
      "model_name": "LayoutModel",
      "state": {}
     },
     "8c3b1e319b4044bebf5892dd6ba6d6b1": {
      "model_module": "@jupyter-widgets/controls",
      "model_module_version": "1.5.0",
      "model_name": "SliderStyleModel",
      "state": {
       "description_width": ""
      }
     },
     "8e8d77dbbb5c468cb14f039f32913d23": {
      "model_module": "@jupyter-widgets/controls",
      "model_module_version": "1.5.0",
      "model_name": "SliderStyleModel",
      "state": {
       "description_width": ""
      }
     },
     "8f6f107208bf4205a5095b648cf5172c": {
      "model_module": "@jupyter-widgets/controls",
      "model_module_version": "1.5.0",
      "model_name": "FloatRangeSliderModel",
      "state": {
       "_model_name": "FloatRangeSliderModel",
       "_view_name": "FloatRangeSliderView",
       "description": "off_peak_limits",
       "layout": "IPY_MODEL_5a81f3a7e6d14381922cf56fd2a7ffa0",
       "max": 4000,
       "min": 2500,
       "step": 0.1,
       "style": "IPY_MODEL_ce7e6a4065364eb78c1afb75876c76da",
       "value": [
        2500,
        4000
       ]
      }
     },
     "914832feee2b483f9cb480f60923d25e": {
      "model_module": "@jupyter-widgets/base",
      "model_module_version": "1.2.0",
      "model_name": "LayoutModel",
      "state": {}
     },
     "9193ee343ff542c882e7ba7101884450": {
      "model_module": "@jupyter-widgets/base",
      "model_module_version": "1.2.0",
      "model_name": "LayoutModel",
      "state": {}
     },
     "9311ad7f5d8a4229bb9f823706c971d5": {
      "model_module": "@jupyter-widgets/base",
      "model_module_version": "1.2.0",
      "model_name": "LayoutModel",
      "state": {}
     },
     "94efbdbc79a54b4c906b6c993c3fb239": {
      "model_module": "@jupyter-widgets/controls",
      "model_module_version": "1.5.0",
      "model_name": "FloatRangeSliderModel",
      "state": {
       "_model_name": "FloatRangeSliderModel",
       "_view_name": "FloatRangeSliderView",
       "description": "off_peak_limits",
       "layout": "IPY_MODEL_c2330abf3cfb4256b6a94eb3a60ccf93",
       "max": 5000,
       "min": 1800,
       "step": 0.1,
       "style": "IPY_MODEL_67c1758b1568446495acd0fbf0f899a4",
       "value": [
        2744.8,
        5000
       ]
      }
     },
     "9921a7e8b72d4b9382c7851e76100a99": {
      "model_module": "@jupyter-widgets/controls",
      "model_module_version": "1.5.0",
      "model_name": "FloatSliderModel",
      "state": {
       "description": "units_peak",
       "layout": "IPY_MODEL_46ccbfc2a959488297212b3541590926",
       "max": 3000,
       "min": 1500,
       "step": 50,
       "style": "IPY_MODEL_1144eb88b4d6443f8ea98361ee7c38fb",
       "value": 1900
      }
     },
     "a12deef6ffdf40ccb46ebb85fbcd9ace": {
      "model_module": "@jupyter-widgets/base",
      "model_module_version": "1.2.0",
      "model_name": "LayoutModel",
      "state": {}
     },
     "a4430f691ce548e09e520dc58eb58f8c": {
      "model_module": "jupyter-matplotlib",
      "model_module_version": "^0.7.2",
      "model_name": "ToolbarModel",
      "state": {
       "layout": "IPY_MODEL_2b4ab2c07ba4445baae76ef5a4fd2b02",
       "toolitems": [
        [
         "Home",
         "Reset original view",
         "home",
         "home"
        ],
        [
         "Back",
         "Back to previous view",
         "arrow-left",
         "back"
        ],
        [
         "Forward",
         "Forward to next view",
         "arrow-right",
         "forward"
        ],
        [
         "Pan",
         "Pan axes with left mouse, zoom with right",
         "arrows",
         "pan"
        ],
        [
         "Zoom",
         "Zoom to rectangle",
         "square-o",
         "zoom"
        ],
        [
         "Download",
         "Download plot",
         "floppy-o",
         "save_figure"
        ]
       ]
      }
     },
     "a4d3a860dd6d469a923eefd039fc1b2a": {
      "model_module": "jupyter-matplotlib",
      "model_module_version": "^0.7.2",
      "model_name": "MPLCanvasModel",
      "state": {
       "layout": "IPY_MODEL_76075c285d114d60b0c6844a69b53ec4",
       "toolbar": "IPY_MODEL_66e96fc7729143c58b4651b16cf3708f",
       "toolbar_position": "left"
      }
     },
     "a97d10f98d354d259e6ec9c4b584331c": {
      "model_module": "@jupyter-widgets/base",
      "model_module_version": "1.2.0",
      "model_name": "LayoutModel",
      "state": {}
     },
     "ad516b6bcbe74d2cbeb1a73fef6344ea": {
      "model_module": "@jupyter-widgets/controls",
      "model_module_version": "1.5.0",
      "model_name": "SliderStyleModel",
      "state": {
       "description_width": ""
      }
     },
     "affd5bb3f9934bf3be8df33bf4ff12ee": {
      "model_module": "@jupyter-widgets/base",
      "model_module_version": "1.2.0",
      "model_name": "LayoutModel",
      "state": {}
     },
     "b01453466d9d47f7bf4f059bfd335e5d": {
      "model_module": "@jupyter-widgets/controls",
      "model_module_version": "1.5.0",
      "model_name": "VBoxModel",
      "state": {
       "_dom_classes": [
        "widget-interact"
       ],
       "children": [
        "IPY_MODEL_473d50387eab4dfaa02f0da74ecf61bc",
        "IPY_MODEL_8f6f107208bf4205a5095b648cf5172c",
        "IPY_MODEL_3ba5c2f87e5d4e888990383b71039e8e"
       ],
       "layout": "IPY_MODEL_3d7b4115acc54e2dbe046de2b0e91efc"
      }
     },
     "b0f14938921d42198e10da88b530ba88": {
      "model_module": "@jupyter-widgets/base",
      "model_module_version": "1.2.0",
      "model_name": "LayoutModel",
      "state": {}
     },
     "b88bbfcbd0404c9aa255c567e0c2b513": {
      "model_module": "@jupyter-widgets/controls",
      "model_module_version": "1.5.0",
      "model_name": "VBoxModel",
      "state": {
       "_dom_classes": [
        "widget-interact"
       ],
       "children": [
        "IPY_MODEL_fbf8c7a85258492eb2fbc8013b0bf6b0",
        "IPY_MODEL_eb9a06c07b414e38bfc4d5febba03d4f",
        "IPY_MODEL_38e400f4be864f4ba3d9308725519ded"
       ],
       "layout": "IPY_MODEL_9193ee343ff542c882e7ba7101884450"
      }
     },
     "baf533c8fdf94d85849945c72e13f284": {
      "model_module": "@jupyter-widgets/base",
      "model_module_version": "1.2.0",
      "model_name": "LayoutModel",
      "state": {}
     },
     "baf6867124aa41f2b014d173982519f8": {
      "model_module": "@jupyter-widgets/controls",
      "model_module_version": "1.5.0",
      "model_name": "SliderStyleModel",
      "state": {
       "description_width": ""
      }
     },
     "bc81bcd2d40b4981939b650cf390a37c": {
      "model_module": "@jupyter-widgets/controls",
      "model_module_version": "1.5.0",
      "model_name": "SliderStyleModel",
      "state": {
       "description_width": ""
      }
     },
     "bd2f715087ba402596597815c4516f1e": {
      "model_module": "@jupyter-widgets/base",
      "model_module_version": "1.2.0",
      "model_name": "LayoutModel",
      "state": {}
     },
     "bdf60210f327479d86e47c4b5dccc6d0": {
      "model_module": "@jupyter-widgets/base",
      "model_module_version": "1.2.0",
      "model_name": "LayoutModel",
      "state": {}
     },
     "bf9ffc036ce041709d0fa44246229009": {
      "model_module": "@jupyter-widgets/base",
      "model_module_version": "1.2.0",
      "model_name": "LayoutModel",
      "state": {}
     },
     "c2330abf3cfb4256b6a94eb3a60ccf93": {
      "model_module": "@jupyter-widgets/base",
      "model_module_version": "1.2.0",
      "model_name": "LayoutModel",
      "state": {}
     },
     "c40f8192bfbf473086e5059be8f9b627": {
      "model_module": "jupyter-matplotlib",
      "model_module_version": "^0.7.2",
      "model_name": "ToolbarModel",
      "state": {
       "layout": "IPY_MODEL_affd5bb3f9934bf3be8df33bf4ff12ee",
       "toolitems": [
        [
         "Home",
         "Reset original view",
         "home",
         "home"
        ],
        [
         "Back",
         "Back to previous view",
         "arrow-left",
         "back"
        ],
        [
         "Forward",
         "Forward to next view",
         "arrow-right",
         "forward"
        ],
        [
         "Pan",
         "Pan axes with left mouse, zoom with right",
         "arrows",
         "pan"
        ],
        [
         "Zoom",
         "Zoom to rectangle",
         "square-o",
         "zoom"
        ],
        [
         "Download",
         "Download plot",
         "floppy-o",
         "save_figure"
        ]
       ]
      }
     },
     "c4b8545ea9e049f8b4a34b643a227480": {
      "model_module": "jupyter-matplotlib",
      "model_module_version": "^0.7.2",
      "model_name": "MPLCanvasModel",
      "state": {
       "_cursor": "default",
       "_figure_label": "Figure 3",
       "_height": 480,
       "_image_mode": "diff",
       "_width": 640,
       "layout": "IPY_MODEL_e2fd7655125f4d23acd7e48e24a2e884",
       "toolbar": "IPY_MODEL_a4430f691ce548e09e520dc58eb58f8c",
       "toolbar_position": "left"
      }
     },
     "c5a5be3886174112ba59ed816715a1a0": {
      "model_module": "@jupyter-widgets/base",
      "model_module_version": "1.2.0",
      "model_name": "LayoutModel",
      "state": {}
     },
     "c68057893f3a4bc1a13bfd0f94324201": {
      "model_module": "@jupyter-widgets/controls",
      "model_module_version": "1.5.0",
      "model_name": "SliderStyleModel",
      "state": {
       "description_width": ""
      }
     },
     "c6ddd3d318cc47e3bd9759301fccf5af": {
      "model_module": "@jupyter-widgets/controls",
      "model_module_version": "1.5.0",
      "model_name": "FloatRangeSliderModel",
      "state": {
       "_model_name": "FloatRangeSliderModel",
       "_view_name": "FloatRangeSliderView",
       "description": "off_peak_limits",
       "layout": "IPY_MODEL_c8f64900a9fe48ab84eb7c2a5a0a8b72",
       "max": 4000,
       "min": 2500,
       "step": 0.1,
       "style": "IPY_MODEL_4c672fee7b21404d92825a88b481aa50",
       "value": [
        3093.6,
        3938.4
       ]
      }
     },
     "c7dacb43b5c14f9b8bbab4c07aee1702": {
      "model_module": "@jupyter-widgets/controls",
      "model_module_version": "1.5.0",
      "model_name": "FloatRangeSliderModel",
      "state": {
       "_model_name": "FloatRangeSliderModel",
       "_view_name": "FloatRangeSliderView",
       "description": "off_peak_limits",
       "layout": "IPY_MODEL_ddc34dbf34e6485fa8bd51558c1703a7",
       "max": 4000,
       "min": 2500,
       "step": 0.1,
       "style": "IPY_MODEL_e4e228f19fe94c21a7f19d9c8f14ed87",
       "value": [
        2500,
        4000
       ]
      }
     },
     "c86b764312144d8b9a67445ee7ff115c": {
      "model_module": "@jupyter-widgets/base",
      "model_module_version": "1.2.0",
      "model_name": "LayoutModel",
      "state": {}
     },
     "c889976ba0704e3cacc605b3ba6698ae": {
      "model_module": "@jupyter-widgets/base",
      "model_module_version": "1.2.0",
      "model_name": "LayoutModel",
      "state": {}
     },
     "c8cc07ef3c174916954d0e80551c601f": {
      "model_module": "@jupyter-widgets/controls",
      "model_module_version": "1.5.0",
      "model_name": "VBoxModel",
      "state": {
       "_dom_classes": [
        "widget-interact"
       ],
       "children": [
        "IPY_MODEL_3b147da62f6046f09e9318df1732fea2",
        "IPY_MODEL_2601556819904382ba3e104e1b846eef",
        "IPY_MODEL_fb12eb1197224a04ab50f5c2df3165e5"
       ],
       "layout": "IPY_MODEL_5c421b851d8c493fb67e13d2cd2c3958"
      }
     },
     "c8f64900a9fe48ab84eb7c2a5a0a8b72": {
      "model_module": "@jupyter-widgets/base",
      "model_module_version": "1.2.0",
      "model_name": "LayoutModel",
      "state": {}
     },
     "cae38d87300c44f380d48147d5c7f4a0": {
      "model_module": "@jupyter-widgets/base",
      "model_module_version": "1.2.0",
      "model_name": "LayoutModel",
      "state": {}
     },
     "cd8051cfd3794b43a607c27572d6a4af": {
      "model_module": "@jupyter-widgets/controls",
      "model_module_version": "1.5.0",
      "model_name": "SliderStyleModel",
      "state": {
       "description_width": ""
      }
     },
     "ce7e6a4065364eb78c1afb75876c76da": {
      "model_module": "@jupyter-widgets/controls",
      "model_module_version": "1.5.0",
      "model_name": "SliderStyleModel",
      "state": {
       "description_width": ""
      }
     },
     "d0f3fa3f6e294f69be70a639f1316aa3": {
      "model_module": "@jupyter-widgets/controls",
      "model_module_version": "1.5.0",
      "model_name": "SliderStyleModel",
      "state": {
       "description_width": ""
      }
     },
     "d1d4bdb39bb64b7a90fb40be04615be9": {
      "model_module": "@jupyter-widgets/base",
      "model_module_version": "1.2.0",
      "model_name": "LayoutModel",
      "state": {}
     },
     "d912032a762c4148bd7b99d9ede7f217": {
      "model_module": "@jupyter-widgets/controls",
      "model_module_version": "1.5.0",
      "model_name": "SliderStyleModel",
      "state": {
       "description_width": ""
      }
     },
     "d9f81f44882d404887ba09af6b64c207": {
      "model_module": "@jupyter-widgets/controls",
      "model_module_version": "1.5.0",
      "model_name": "VBoxModel",
      "state": {
       "_dom_classes": [
        "widget-interact"
       ],
       "children": [
        "IPY_MODEL_e244f653b36f413fba32bd838af005c1",
        "IPY_MODEL_525dcca0c3804310a946b240669974d3",
        "IPY_MODEL_463fb931cede4ea4b5cc884d6b875a9c"
       ],
       "layout": "IPY_MODEL_77174cd88c8043a7a30485f9008d3e2c"
      }
     },
     "dc941e382efd44049bf30f673eef4c5f": {
      "model_module": "@jupyter-widgets/controls",
      "model_module_version": "1.5.0",
      "model_name": "VBoxModel",
      "state": {
       "_dom_classes": [
        "widget-interact"
       ],
       "children": [
        "IPY_MODEL_9921a7e8b72d4b9382c7851e76100a99",
        "IPY_MODEL_94efbdbc79a54b4c906b6c993c3fb239",
        "IPY_MODEL_09b065c878124919be19b9ed276ae342"
       ],
       "layout": "IPY_MODEL_139d34b18cc042e58197e82f2c18db6c"
      }
     },
     "ddc34dbf34e6485fa8bd51558c1703a7": {
      "model_module": "@jupyter-widgets/base",
      "model_module_version": "1.2.0",
      "model_name": "LayoutModel",
      "state": {}
     },
     "df7c4de8a0664b1cb2f3c678438cbb5e": {
      "model_module": "@jupyter-widgets/controls",
      "model_module_version": "1.5.0",
      "model_name": "VBoxModel",
      "state": {
       "_dom_classes": [
        "widget-interact"
       ],
       "children": [
        "IPY_MODEL_7efe06742bbe4310b178ce23629a1b9f",
        "IPY_MODEL_138fb93d674d4b3a93eca7ade2ba05da",
        "IPY_MODEL_1623a9dfac14419b94ba2913af5f1d7f"
       ],
       "layout": "IPY_MODEL_a97d10f98d354d259e6ec9c4b584331c"
      }
     },
     "e244f653b36f413fba32bd838af005c1": {
      "model_module": "@jupyter-widgets/controls",
      "model_module_version": "1.5.0",
      "model_name": "FloatSliderModel",
      "state": {
       "description": "units_peak",
       "layout": "IPY_MODEL_2396c578f504492784c36bfca2e133d9",
       "max": 3000,
       "min": 2000,
       "step": 50,
       "style": "IPY_MODEL_8e8d77dbbb5c468cb14f039f32913d23",
       "value": 2500
      }
     },
     "e2fd7655125f4d23acd7e48e24a2e884": {
      "model_module": "@jupyter-widgets/base",
      "model_module_version": "1.2.0",
      "model_name": "LayoutModel",
      "state": {}
     },
     "e4e228f19fe94c21a7f19d9c8f14ed87": {
      "model_module": "@jupyter-widgets/controls",
      "model_module_version": "1.5.0",
      "model_name": "SliderStyleModel",
      "state": {
       "description_width": ""
      }
     },
     "e51f61c121c1435caa254f05155c0e1d": {
      "model_module": "jupyter-matplotlib",
      "model_module_version": "^0.7.2",
      "model_name": "MPLCanvasModel",
      "state": {
       "_cursor": "default",
       "_figure_label": "Figure 8",
       "_height": 480,
       "_image_mode": "diff",
       "_message": "x=3940.78      y=781.02      ",
       "_width": 640,
       "layout": "IPY_MODEL_bdf60210f327479d86e47c4b5dccc6d0",
       "toolbar": "IPY_MODEL_f8b0eb95039b4c899f5a2f04d55a4a80",
       "toolbar_position": "left"
      }
     },
     "e6ea3a62ad524d13a622c314bf1040e8": {
      "model_module": "@jupyter-widgets/base",
      "model_module_version": "1.2.0",
      "model_name": "LayoutModel",
      "state": {}
     },
     "e9554fb1c34b4b23a5fb60e899b0a6e0": {
      "model_module": "@jupyter-widgets/controls",
      "model_module_version": "1.5.0",
      "model_name": "FloatRangeSliderModel",
      "state": {
       "_model_name": "FloatRangeSliderModel",
       "_view_name": "FloatRangeSliderView",
       "description": "off_peak_limits",
       "layout": "IPY_MODEL_29dfeaa8e09f4d8d87c472435e2a818b",
       "max": 4000,
       "min": 2500,
       "step": 0.1,
       "style": "IPY_MODEL_ad516b6bcbe74d2cbeb1a73fef6344ea",
       "value": [
        2661.5,
        3530.9
       ]
      }
     },
     "ea77540613c54620a7152aae01a84bb4": {
      "model_module": "@jupyter-widgets/base",
      "model_module_version": "1.2.0",
      "model_name": "LayoutModel",
      "state": {}
     },
     "eb9a06c07b414e38bfc4d5febba03d4f": {
      "model_module": "@jupyter-widgets/controls",
      "model_module_version": "1.5.0",
      "model_name": "FloatRangeSliderModel",
      "state": {
       "_model_name": "FloatRangeSliderModel",
       "_view_name": "FloatRangeSliderView",
       "description": "off_peak_limits",
       "layout": "IPY_MODEL_c86b764312144d8b9a67445ee7ff115c",
       "max": 5000,
       "min": 1800,
       "step": 0.1,
       "style": "IPY_MODEL_1744f47a0f244ae1a356cedecb3a41e4",
       "value": [
        2174.2,
        4477.4
       ]
      }
     },
     "ec971fe436ff4f18adaf5798d93e487e": {
      "model_module": "@jupyter-widgets/base",
      "model_module_version": "1.2.0",
      "model_name": "LayoutModel",
      "state": {}
     },
     "ed9fc8b521ca4125a59890856dc673b0": {
      "model_module": "jupyter-matplotlib",
      "model_module_version": "^0.7.2",
      "model_name": "MPLCanvasModel",
      "state": {
       "_cursor": "default",
       "_figure_label": "Figure 2",
       "_height": 480,
       "_image_mode": "diff",
       "_width": 640,
       "layout": "IPY_MODEL_674b62479d5a4bb38dac08abb491cacb",
       "toolbar": "IPY_MODEL_738c3beb261f4f1a9a1e8e2ac4949543",
       "toolbar_position": "left"
      }
     },
     "eebd7c5e1bfc4e18bd2dd0bb6481f31a": {
      "model_module": "@jupyter-widgets/controls",
      "model_module_version": "1.5.0",
      "model_name": "SliderStyleModel",
      "state": {
       "description_width": ""
      }
     },
     "ef1e2604f337463f9a98336c6bbe1646": {
      "model_module": "@jupyter-widgets/output",
      "model_module_version": "1.0.0",
      "model_name": "OutputModel",
      "state": {
       "layout": "IPY_MODEL_334d30a0317d4c3da00951b74bb5e462"
      }
     },
     "ef6032c96e4e4971b52ccf902246bda2": {
      "model_module": "@jupyter-widgets/base",
      "model_module_version": "1.2.0",
      "model_name": "LayoutModel",
      "state": {}
     },
     "f7c067dc5b1d45fdab015bdbd32a1b81": {
      "model_module": "@jupyter-widgets/controls",
      "model_module_version": "1.5.0",
      "model_name": "VBoxModel",
      "state": {
       "_dom_classes": [
        "widget-interact"
       ],
       "children": [
        "IPY_MODEL_7d1c2b5ee2584433bd4302c7406edaca",
        "IPY_MODEL_42808556ed95429db71f775d8a7ddae3",
        "IPY_MODEL_837e2bfa2ea346d4b1ead65c05a5fb6b"
       ],
       "layout": "IPY_MODEL_49685aa255cd4b1c8c8e6456a71531a3"
      }
     },
     "f8b0eb95039b4c899f5a2f04d55a4a80": {
      "model_module": "jupyter-matplotlib",
      "model_module_version": "^0.7.2",
      "model_name": "ToolbarModel",
      "state": {
       "layout": "IPY_MODEL_3185eb4e09014369a94e1952a1510034",
       "toolitems": [
        [
         "Home",
         "Reset original view",
         "home",
         "home"
        ],
        [
         "Back",
         "Back to previous view",
         "arrow-left",
         "back"
        ],
        [
         "Forward",
         "Forward to next view",
         "arrow-right",
         "forward"
        ],
        [
         "Pan",
         "Pan axes with left mouse, zoom with right",
         "arrows",
         "pan"
        ],
        [
         "Zoom",
         "Zoom to rectangle",
         "square-o",
         "zoom"
        ],
        [
         "Download",
         "Download plot",
         "floppy-o",
         "save_figure"
        ]
       ]
      }
     },
     "fb12eb1197224a04ab50f5c2df3165e5": {
      "model_module": "@jupyter-widgets/output",
      "model_module_version": "1.0.0",
      "model_name": "OutputModel",
      "state": {
       "layout": "IPY_MODEL_ea77540613c54620a7152aae01a84bb4"
      }
     },
     "fbf8c7a85258492eb2fbc8013b0bf6b0": {
      "model_module": "@jupyter-widgets/controls",
      "model_module_version": "1.5.0",
      "model_name": "FloatSliderModel",
      "state": {
       "description": "units_peak",
       "layout": "IPY_MODEL_25b4c682c28643a6942ed56fd8384b9b",
       "max": 3000,
       "min": 1500,
       "step": 50,
       "style": "IPY_MODEL_05315a49edbf4f1383787b8342ccb17f",
       "value": 1900
      }
     }
    },
    "version_major": 2,
    "version_minor": 0
   }
  }
 },
 "nbformat": 4,
 "nbformat_minor": 4
}
